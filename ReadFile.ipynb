{
  "nbformat": 4,
  "nbformat_minor": 0,
  "metadata": {
    "colab": {
      "provenance": [],
      "authorship_tag": "ABX9TyOnfWawGmQIa72wuQ9Ym70s",
      "include_colab_link": true
    },
    "kernelspec": {
      "name": "python3",
      "display_name": "Python 3"
    },
    "language_info": {
      "name": "python"
    }
  },
  "cells": [
    {
      "cell_type": "markdown",
      "metadata": {
        "id": "view-in-github",
        "colab_type": "text"
      },
      "source": [
        "<a href=\"https://colab.research.google.com/github/Kimayaahire/Tutedude-Ass4/blob/main/ReadFile.ipynb\" target=\"_parent\"><img src=\"https://colab.research.google.com/assets/colab-badge.svg\" alt=\"Open In Colab\"/></a>"
      ]
    },
    {
      "cell_type": "code",
      "execution_count": 1,
      "metadata": {
        "colab": {
          "base_uri": "https://localhost:8080/"
        },
        "id": "0cn3EJNui1BR",
        "outputId": "9d9d4ba6-d8cf-4af3-b7b5-fc9575615904"
      },
      "outputs": [
        {
          "output_type": "stream",
          "name": "stdout",
          "text": [
            "Reading file content:\n",
            "Error: The file 'sample.txt' was not found.\n"
          ]
        }
      ],
      "source": [
        "try:\n",
        "    filename = \"sample.txt\"\n",
        "    print(\"Reading file content:\")\n",
        "\n",
        "    with open(filename, \"r\") as file:\n",
        "        lines = file.readlines()\n",
        "        for i, line in enumerate(lines, start=1):\n",
        "            print(f\"Line {i}: {line.strip()}\")\n",
        "\n",
        "except FileNotFoundError:\n",
        "    print(f\"Error: The file '{filename}' was not found.\")\n"
      ]
    }
  ]
}