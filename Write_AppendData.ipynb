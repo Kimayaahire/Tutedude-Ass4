{
  "nbformat": 4,
  "nbformat_minor": 0,
  "metadata": {
    "colab": {
      "provenance": [],
      "authorship_tag": "ABX9TyMl4CkHb0w4asQP6xdg0cfI",
      "include_colab_link": true
    },
    "kernelspec": {
      "name": "python3",
      "display_name": "Python 3"
    },
    "language_info": {
      "name": "python"
    }
  },
  "cells": [
    {
      "cell_type": "markdown",
      "metadata": {
        "id": "view-in-github",
        "colab_type": "text"
      },
      "source": [
        "<a href=\"https://colab.research.google.com/github/Kimayaahire/Tutedude-Ass4/blob/main/Write_AppendData.ipynb\" target=\"_parent\"><img src=\"https://colab.research.google.com/assets/colab-badge.svg\" alt=\"Open In Colab\"/></a>"
      ]
    },
    {
      "cell_type": "code",
      "execution_count": 1,
      "metadata": {
        "colab": {
          "base_uri": "https://localhost:8080/"
        },
        "id": "UE5h58VZ2_Ns",
        "outputId": "10342172-7c95-47ff-c589-40bdc176599c"
      },
      "outputs": [
        {
          "output_type": "stream",
          "name": "stdout",
          "text": [
            "Enter text to write to the file: Hello, Python\n",
            "Data successfully written to output.txt.\n",
            "\n",
            "Enter additional text to append: Learning File Handling in Python\n",
            "Data successfully appended.\n",
            "\n",
            "Final content of output.txt:\n",
            "Hello, Python\n",
            "Learning File Handling in Python\n",
            "\n"
          ]
        }
      ],
      "source": [
        "write = input(\"Enter text to write to the file: \")\n",
        "with open(\"output.txt\", \"w\") as file:\n",
        "    file.write(write + \"\\n\")\n",
        "print(\"Data successfully written to output.txt.\\n\")\n",
        "\n",
        "append = input(\"Enter additional text to append: \")\n",
        "with open(\"output.txt\", \"a\") as file:\n",
        "    file.write(append + \"\\n\")\n",
        "print(\"Data successfully appended.\\n\")\n",
        "\n",
        "print(\"Final content of output.txt:\")\n",
        "with open(\"output.txt\", \"r\") as file:\n",
        "    content = file.read()\n",
        "    print(content)\n"
      ]
    }
  ]
}